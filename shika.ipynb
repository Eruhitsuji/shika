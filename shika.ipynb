{
  "nbformat": 4,
  "nbformat_minor": 0,
  "metadata": {
    "colab": {
      "provenance": [],
      "authorship_tag": "ABX9TyMb1O9Trmc7ASgFW3uzRwI8",
      "include_colab_link": true
    },
    "kernelspec": {
      "name": "python3",
      "display_name": "Python 3"
    },
    "language_info": {
      "name": "python"
    }
  },
  "cells": [
    {
      "cell_type": "markdown",
      "metadata": {
        "id": "view-in-github",
        "colab_type": "text"
      },
      "source": [
        "<a href=\"https://colab.research.google.com/github/Eruhitsuji/shika/blob/main/shika.ipynb\" target=\"_parent\"><img src=\"https://colab.research.google.com/assets/colab-badge.svg\" alt=\"Open In Colab\"/></a>"
      ]
    },
    {
      "cell_type": "code",
      "source": [
        "import graphviz as gv\n",
        "import os\n",
        "!wget https://jp.ffonts.net/MS-Gothic.font.zip\n",
        "!unzip MS-Gothic.font.zip -o\n",
        "!rm MS-Gothic.font.zip\n",
        "\n",
        "font_path = '/content/MSGOTHIC.TTF'\n",
        "\n",
        "config_path = '/usr/share/graphviz/config6'\n",
        "\n",
        "!cp \"$font_path\" /usr/share/fonts/truetype/\n",
        "\n",
        "!dot -c"
      ],
      "metadata": {
        "colab": {
          "base_uri": "https://localhost:8080/"
        },
        "id": "JKyNxGCKJ8c4",
        "outputId": "384dc08e-b5a4-4d41-85a2-55fa21252010"
      },
      "execution_count": null,
      "outputs": [
        {
          "output_type": "stream",
          "name": "stdout",
          "text": [
            "--2024-06-27 19:28:26--  https://jp.ffonts.net/MS-Gothic.font.zip\n",
            "Resolving jp.ffonts.net (jp.ffonts.net)... 95.216.234.12\n",
            "Connecting to jp.ffonts.net (jp.ffonts.net)|95.216.234.12|:443... connected.\n",
            "HTTP request sent, awaiting response... 200 OK\n",
            "Length: 2343262 (2.2M) [application/zip]\n",
            "Saving to: ‘MS-Gothic.font.zip’\n",
            "\n",
            "MS-Gothic.font.zip  100%[===================>]   2.23M  1.95MB/s    in 1.1s    \n",
            "\n",
            "2024-06-27 19:28:30 (1.95 MB/s) - ‘MS-Gothic.font.zip’ saved [2343262/2343262]\n",
            "\n",
            "Archive:  MS-Gothic.font.zip\n",
            " _______  _______                                                    \n",
            "(_______)(_______)                 _                             _   \n",
            " _____    _____     ___   ____   _| |_   ___     ____   _____  _| |_ \n",
            "|  ___)  |  ___)   / _ \\ |  _ \\ (_   _) /___)   |  _ \\ | ___ |(_   _)\n",
            "| |      | |      | |_| || | | |  | |_ |___ | _ | | | || ____|  | |_ \n",
            "|_|      |_|       \\___/ |_| |_|   \\__)(___/ (_)|_| |_||_____)   \\__)\n",
            "\n",
            "Download free fonts from www.ffonts.net !\n",
            "caution: filename not matched:  -o\n",
            "cp: cannot stat '/content/MSGOTHIC.TTF': No such file or directory\n"
          ]
        }
      ]
    },
    {
      "cell_type": "code",
      "source": [
        "!pip install transitions"
      ],
      "metadata": {
        "colab": {
          "base_uri": "https://localhost:8080/"
        },
        "id": "elCD5_4zHVWs",
        "outputId": "49c160eb-2387-489d-e1d1-56fc4b84013d"
      },
      "execution_count": null,
      "outputs": [
        {
          "output_type": "stream",
          "name": "stdout",
          "text": [
            "Collecting transitions\n",
            "  Downloading transitions-0.9.1-py2.py3-none-any.whl (102 kB)\n",
            "\u001b[2K     \u001b[90m━━━━━━━━━━━━━━━━━━━━━━━━━━━━━━━━━━━━━━━━\u001b[0m \u001b[32m102.3/102.3 kB\u001b[0m \u001b[31m2.8 MB/s\u001b[0m eta \u001b[36m0:00:00\u001b[0m\n",
            "\u001b[?25hRequirement already satisfied: six in /usr/local/lib/python3.10/dist-packages (from transitions) (1.16.0)\n",
            "Installing collected packages: transitions\n",
            "Successfully installed transitions-0.9.1\n"
          ]
        }
      ]
    },
    {
      "cell_type": "code",
      "source": [
        "!apt-get install graphviz graphviz-dev\n",
        "!pip install pygraphviz"
      ],
      "metadata": {
        "colab": {
          "base_uri": "https://localhost:8080/"
        },
        "id": "4iZPZqxAHs3b",
        "outputId": "6bc7501f-449e-4f2d-97db-84ab0f73a061"
      },
      "execution_count": null,
      "outputs": [
        {
          "output_type": "stream",
          "name": "stdout",
          "text": [
            "Reading package lists... Done\n",
            "Building dependency tree... Done\n",
            "Reading state information... Done\n",
            "Note, selecting 'libgraphviz-dev' instead of 'graphviz-dev'\n",
            "graphviz is already the newest version (2.42.2-6).\n",
            "libgraphviz-dev is already the newest version (2.42.2-6).\n",
            "0 upgraded, 0 newly installed, 0 to remove and 45 not upgraded.\n",
            "Requirement already satisfied: pygraphviz in /usr/local/lib/python3.10/dist-packages (1.13)\n"
          ]
        }
      ]
    },
    {
      "cell_type": "code",
      "execution_count": null,
      "metadata": {
        "id": "G5igSctsG_9G"
      },
      "outputs": [],
      "source": [
        "import io\n",
        "from IPython.display import Image, display\n",
        "from transitions.extensions import GraphMachine\n",
        "import collections\n",
        "import random\n",
        "\n",
        "class stateMachine():\n",
        "\n",
        "  class Matter(object):\n",
        "      def __init__(self, filename=None):\n",
        "          if (filename is None):\n",
        "              self.output = io.BytesIO()\n",
        "          else:\n",
        "              self.output = filename\n",
        "\n",
        "      def action_output_graph(self, *args, **kwargs):\n",
        "          self.get_graph(*args, **kwargs).draw(self.output, prog='dot', format='png')\n",
        "          if isinstance(self.output, io.BytesIO):\n",
        "              display(Image(self.output.getvalue()))\n",
        "              self.output.seek(0)\n",
        "\n",
        "  def __init__(self,s):\n",
        "    self.__s=s\n",
        "    self.__start=s[0]\n",
        "    self.__now_state=s[0]\n",
        "\n",
        "    s_len=len(s)\n",
        "    all_transitions=collections.Counter([(s[i%s_len],s[(i+1)%s_len]) for i in range(s_len)])\n",
        "\n",
        "    self.__states=list(set(list(s)))\n",
        "    self.__transitions_model=[]\n",
        "    self.__transitions=[]\n",
        "    for si in self.__states:\n",
        "        tmp_key=[]\n",
        "        si_sum=0\n",
        "        for key in all_transitions:\n",
        "            if(key[0]==si):\n",
        "                tmp_key.append(key)\n",
        "                si_sum+=all_transitions[key]\n",
        "        for key in tmp_key:\n",
        "            d={\n",
        "                \"trigger\":all_transitions[key]/si_sum,\n",
        "                \"source\":key[0],\n",
        "                \"dest\":key[1],\n",
        "            }\n",
        "            self.__transitions.append(d.copy())\n",
        "            d[\"trigger\"]=str(d[\"trigger\"])\n",
        "            self.__transitions_model.append(d)\n",
        "\n",
        "\n",
        "    self.__model = self.Matter()\n",
        "    self.__machine = GraphMachine(model=self.__model, states=self.__states, transitions=self.__transitions_model, initial=self.__start, auto_transitions=False, ordered_transitions=False)\n",
        "\n",
        "  def __getlistTransitionsOfState(self,state):\n",
        "    return [t for t in self.__transitions if t[\"source\"]==state]\n",
        "\n",
        "  def getStates(self):\n",
        "    return self.__states\n",
        "  def getTransitions(self):\n",
        "    return self.__transitions\n",
        "  def getNowState(self):\n",
        "    return self.__now_state\n",
        "  def getMachine(self):\n",
        "    return self.__machine\n",
        "  def output_graph(self):\n",
        "    return self.__model.action_output_graph()\n",
        "\n",
        "  def oneStep(self,rand_func=random.random):\n",
        "    l=self.__getlistTransitionsOfState(self.__now_state)\n",
        "    rand=random.random()\n",
        "    sum=0\n",
        "    for li in l:\n",
        "      sum+=li[\"trigger\"]\n",
        "      if(sum>rand):\n",
        "        self.__now_state=li[\"dest\"]\n",
        "        break\n",
        "\n",
        "    if(sum==0):\n",
        "      return None\n",
        "    return self.__now_state\n",
        "\n",
        "  def run(self,n):\n",
        "    l=[self.__now_state]\n",
        "    for i in range(n):\n",
        "      tmp=self.oneStep()\n",
        "      l.append(tmp)\n",
        "    return l\n",
        "\n",
        "  def reset(self):\n",
        "    self.__now_state=self.__start\n"
      ]
    },
    {
      "cell_type": "code",
      "source": [
        "sm=stateMachine(\"しかのこのこのここしたんたん\")\n",
        "sm.output_graph()\n",
        "print(\"\".join(sm.run(20)))"
      ],
      "metadata": {
        "colab": {
          "base_uri": "https://localhost:8080/",
          "height": 252
        },
        "id": "G4R-5NTbP-iY",
        "outputId": "29b7d039-d7a3-403d-d31d-1aa7ec2bc005"
      },
      "execution_count": null,
      "outputs": [
        {
          "output_type": "display_data",
          "data": {
            "image/png": "[encoded data removed]",
            "text/plain": [
              "<IPython.core.display.Image object>"
            ]
          },
          "metadata": {}
        },
        {
          "output_type": "stream",
          "name": "stdout",
          "text": [
            "しかのこしかのこしたんたんたんしたんしかの\n"
          ]
        }
      ]
    }
  ]
}